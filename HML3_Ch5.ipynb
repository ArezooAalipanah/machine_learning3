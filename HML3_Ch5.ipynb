{
  "nbformat": 4,
  "nbformat_minor": 0,
  "metadata": {
    "colab": {
      "provenance": [],
      "authorship_tag": "ABX9TyNVxPK0Mykftr3ho/K/X2D4",
      "include_colab_link": true
    },
    "kernelspec": {
      "name": "python3",
      "display_name": "Python 3"
    },
    "language_info": {
      "name": "python"
    }
  },
  "cells": [
    {
      "cell_type": "markdown",
      "metadata": {
        "id": "view-in-github",
        "colab_type": "text"
      },
      "source": [
        "<a href=\"https://colab.research.google.com/github/ArezooAalipanah/machine_learning3/blob/main/HML3_Ch5.ipynb\" target=\"_parent\"><img src=\"https://colab.research.google.com/assets/colab-badge.svg\" alt=\"Open In Colab\"/></a>"
      ]
    },
    {
      "cell_type": "markdown",
      "source": [
        "## Chapter 5: Support Vector Machines 🐈"
      ],
      "metadata": {
        "id": "Me-8LJ4UM7Gl"
      }
    },
    {
      "cell_type": "code",
      "source": [
        "from sklearn.datasets import load_iris\n",
        "from sklearn.pipeline import make_pipeline\n",
        "from sklearn.preprocessing import StandardScaler\n",
        "from sklearn.svm import LinearSVC\n"
      ],
      "metadata": {
        "id": "t6hGhVo7NJEY"
      },
      "execution_count": 2,
      "outputs": []
    },
    {
      "cell_type": "markdown",
      "source": [
        "the following code loads the iris dataset and trains a linear SVM classi‐\n",
        "fier to detect Iris virginica flowers. The pipeline first scales the features, then uses a\n",
        "LinearSVC with C=1."
      ],
      "metadata": {
        "id": "SfU3BVw58MG5"
      }
    },
    {
      "cell_type": "code",
      "source": [
        "iris = load_iris(as_frame = True)\n",
        "X = iris.data[[\"petal length (cm)\", \"petal width (cm)\"]].values\n",
        "y = (iris.target == 2) #Iris virginica\n",
        "\n",
        "svm_clf = make_pipeline(StandardScaler(),\n",
        "                        LinearSVC (C=1, random_state = 42))\n",
        "\n",
        "svm_clf.fit(X, y)\n"
      ],
      "metadata": {
        "colab": {
          "base_uri": "https://localhost:8080/",
          "height": 171
        },
        "id": "aC6DiA-P7dFg",
        "outputId": "85a586e8-33a0-4c9c-a02a-0222528c6341"
      },
      "execution_count": 4,
      "outputs": [
        {
          "output_type": "execute_result",
          "data": {
            "text/plain": [
              "Pipeline(steps=[('standardscaler', StandardScaler()),\n",
              "                ('linearsvc', LinearSVC(C=1, random_state=42))])"
            ],
            "text/html": [
              "<style>#sk-container-id-2 {color: black;background-color: white;}#sk-container-id-2 pre{padding: 0;}#sk-container-id-2 div.sk-toggleable {background-color: white;}#sk-container-id-2 label.sk-toggleable__label {cursor: pointer;display: block;width: 100%;margin-bottom: 0;padding: 0.3em;box-sizing: border-box;text-align: center;}#sk-container-id-2 label.sk-toggleable__label-arrow:before {content: \"▸\";float: left;margin-right: 0.25em;color: #696969;}#sk-container-id-2 label.sk-toggleable__label-arrow:hover:before {color: black;}#sk-container-id-2 div.sk-estimator:hover label.sk-toggleable__label-arrow:before {color: black;}#sk-container-id-2 div.sk-toggleable__content {max-height: 0;max-width: 0;overflow: hidden;text-align: left;background-color: #f0f8ff;}#sk-container-id-2 div.sk-toggleable__content pre {margin: 0.2em;color: black;border-radius: 0.25em;background-color: #f0f8ff;}#sk-container-id-2 input.sk-toggleable__control:checked~div.sk-toggleable__content {max-height: 200px;max-width: 100%;overflow: auto;}#sk-container-id-2 input.sk-toggleable__control:checked~label.sk-toggleable__label-arrow:before {content: \"▾\";}#sk-container-id-2 div.sk-estimator input.sk-toggleable__control:checked~label.sk-toggleable__label {background-color: #d4ebff;}#sk-container-id-2 div.sk-label input.sk-toggleable__control:checked~label.sk-toggleable__label {background-color: #d4ebff;}#sk-container-id-2 input.sk-hidden--visually {border: 0;clip: rect(1px 1px 1px 1px);clip: rect(1px, 1px, 1px, 1px);height: 1px;margin: -1px;overflow: hidden;padding: 0;position: absolute;width: 1px;}#sk-container-id-2 div.sk-estimator {font-family: monospace;background-color: #f0f8ff;border: 1px dotted black;border-radius: 0.25em;box-sizing: border-box;margin-bottom: 0.5em;}#sk-container-id-2 div.sk-estimator:hover {background-color: #d4ebff;}#sk-container-id-2 div.sk-parallel-item::after {content: \"\";width: 100%;border-bottom: 1px solid gray;flex-grow: 1;}#sk-container-id-2 div.sk-label:hover label.sk-toggleable__label {background-color: #d4ebff;}#sk-container-id-2 div.sk-serial::before {content: \"\";position: absolute;border-left: 1px solid gray;box-sizing: border-box;top: 0;bottom: 0;left: 50%;z-index: 0;}#sk-container-id-2 div.sk-serial {display: flex;flex-direction: column;align-items: center;background-color: white;padding-right: 0.2em;padding-left: 0.2em;position: relative;}#sk-container-id-2 div.sk-item {position: relative;z-index: 1;}#sk-container-id-2 div.sk-parallel {display: flex;align-items: stretch;justify-content: center;background-color: white;position: relative;}#sk-container-id-2 div.sk-item::before, #sk-container-id-2 div.sk-parallel-item::before {content: \"\";position: absolute;border-left: 1px solid gray;box-sizing: border-box;top: 0;bottom: 0;left: 50%;z-index: -1;}#sk-container-id-2 div.sk-parallel-item {display: flex;flex-direction: column;z-index: 1;position: relative;background-color: white;}#sk-container-id-2 div.sk-parallel-item:first-child::after {align-self: flex-end;width: 50%;}#sk-container-id-2 div.sk-parallel-item:last-child::after {align-self: flex-start;width: 50%;}#sk-container-id-2 div.sk-parallel-item:only-child::after {width: 0;}#sk-container-id-2 div.sk-dashed-wrapped {border: 1px dashed gray;margin: 0 0.4em 0.5em 0.4em;box-sizing: border-box;padding-bottom: 0.4em;background-color: white;}#sk-container-id-2 div.sk-label label {font-family: monospace;font-weight: bold;display: inline-block;line-height: 1.2em;}#sk-container-id-2 div.sk-label-container {text-align: center;}#sk-container-id-2 div.sk-container {/* jupyter's `normalize.less` sets `[hidden] { display: none; }` but bootstrap.min.css set `[hidden] { display: none !important; }` so we also need the `!important` here to be able to override the default hidden behavior on the sphinx rendered scikit-learn.org. See: https://github.com/scikit-learn/scikit-learn/issues/21755 */display: inline-block !important;position: relative;}#sk-container-id-2 div.sk-text-repr-fallback {display: none;}</style><div id=\"sk-container-id-2\" class=\"sk-top-container\"><div class=\"sk-text-repr-fallback\"><pre>Pipeline(steps=[(&#x27;standardscaler&#x27;, StandardScaler()),\n",
              "                (&#x27;linearsvc&#x27;, LinearSVC(C=1, random_state=42))])</pre><b>In a Jupyter environment, please rerun this cell to show the HTML representation or trust the notebook. <br />On GitHub, the HTML representation is unable to render, please try loading this page with nbviewer.org.</b></div><div class=\"sk-container\" hidden><div class=\"sk-item sk-dashed-wrapped\"><div class=\"sk-label-container\"><div class=\"sk-label sk-toggleable\"><input class=\"sk-toggleable__control sk-hidden--visually\" id=\"sk-estimator-id-4\" type=\"checkbox\" ><label for=\"sk-estimator-id-4\" class=\"sk-toggleable__label sk-toggleable__label-arrow\">Pipeline</label><div class=\"sk-toggleable__content\"><pre>Pipeline(steps=[(&#x27;standardscaler&#x27;, StandardScaler()),\n",
              "                (&#x27;linearsvc&#x27;, LinearSVC(C=1, random_state=42))])</pre></div></div></div><div class=\"sk-serial\"><div class=\"sk-item\"><div class=\"sk-estimator sk-toggleable\"><input class=\"sk-toggleable__control sk-hidden--visually\" id=\"sk-estimator-id-5\" type=\"checkbox\" ><label for=\"sk-estimator-id-5\" class=\"sk-toggleable__label sk-toggleable__label-arrow\">StandardScaler</label><div class=\"sk-toggleable__content\"><pre>StandardScaler()</pre></div></div></div><div class=\"sk-item\"><div class=\"sk-estimator sk-toggleable\"><input class=\"sk-toggleable__control sk-hidden--visually\" id=\"sk-estimator-id-6\" type=\"checkbox\" ><label for=\"sk-estimator-id-6\" class=\"sk-toggleable__label sk-toggleable__label-arrow\">LinearSVC</label><div class=\"sk-toggleable__content\"><pre>LinearSVC(C=1, random_state=42)</pre></div></div></div></div></div></div></div>"
            ]
          },
          "metadata": {},
          "execution_count": 4
        }
      ]
    },
    {
      "cell_type": "code",
      "source": [
        "# making the predictions:\n",
        "X_new = [[5.5, 1.7], [5.0, 1.5]]\n",
        "svm_clf.predict(X_new)"
      ],
      "metadata": {
        "colab": {
          "base_uri": "https://localhost:8080/"
        },
        "id": "AeBpHQlC8LG-",
        "outputId": "7b9d09af-66c5-410a-d83f-441f28558b9e"
      },
      "execution_count": 5,
      "outputs": [
        {
          "output_type": "execute_result",
          "data": {
            "text/plain": [
              "array([ True, False])"
            ]
          },
          "metadata": {},
          "execution_count": 5
        }
      ]
    },
    {
      "cell_type": "code",
      "source": [
        "svm_clf.decision_function(X_new)"
      ],
      "metadata": {
        "colab": {
          "base_uri": "https://localhost:8080/"
        },
        "id": "ZiFlZubG-56Z",
        "outputId": "108815a2-5a56-4a45-bec0-1950584d4cca"
      },
      "execution_count": 6,
      "outputs": [
        {
          "output_type": "execute_result",
          "data": {
            "text/plain": [
              "array([ 0.66163411, -0.22036063])"
            ]
          },
          "metadata": {},
          "execution_count": 6
        }
      ]
    },
    {
      "cell_type": "code",
      "source": [
        "import matplotlib.pyplot as plt\n"
      ],
      "metadata": {
        "id": "7YzMHWfr_G_s"
      },
      "execution_count": 7,
      "outputs": []
    },
    {
      "cell_type": "markdown",
      "source": [
        "# Linear SVM Classification"
      ],
      "metadata": {
        "id": "ZI9Z6eYV_1Jy"
      }
    },
    {
      "cell_type": "code",
      "source": [
        "import matplotlib.pyplot as plt\n",
        "import numpy as np\n",
        "from sklearn.svm import SVC\n",
        "from sklearn import datasets\n",
        "\n"
      ],
      "metadata": {
        "id": "ITEAtOxs_tn0"
      },
      "execution_count": 8,
      "outputs": []
    },
    {
      "cell_type": "code",
      "source": [
        "X , y"
      ],
      "metadata": {
        "colab": {
          "base_uri": "https://localhost:8080/"
        },
        "id": "q_07wRUZAGXi",
        "outputId": "781685c1-5981-4884-b249-b7767626ce65"
      },
      "execution_count": 9,
      "outputs": [
        {
          "output_type": "execute_result",
          "data": {
            "text/plain": [
              "(array([[1.4, 0.2],\n",
              "        [1.4, 0.2],\n",
              "        [1.3, 0.2],\n",
              "        [1.5, 0.2],\n",
              "        [1.4, 0.2],\n",
              "        [1.7, 0.4],\n",
              "        [1.4, 0.3],\n",
              "        [1.5, 0.2],\n",
              "        [1.4, 0.2],\n",
              "        [1.5, 0.1],\n",
              "        [1.5, 0.2],\n",
              "        [1.6, 0.2],\n",
              "        [1.4, 0.1],\n",
              "        [1.1, 0.1],\n",
              "        [1.2, 0.2],\n",
              "        [1.5, 0.4],\n",
              "        [1.3, 0.4],\n",
              "        [1.4, 0.3],\n",
              "        [1.7, 0.3],\n",
              "        [1.5, 0.3],\n",
              "        [1.7, 0.2],\n",
              "        [1.5, 0.4],\n",
              "        [1. , 0.2],\n",
              "        [1.7, 0.5],\n",
              "        [1.9, 0.2],\n",
              "        [1.6, 0.2],\n",
              "        [1.6, 0.4],\n",
              "        [1.5, 0.2],\n",
              "        [1.4, 0.2],\n",
              "        [1.6, 0.2],\n",
              "        [1.6, 0.2],\n",
              "        [1.5, 0.4],\n",
              "        [1.5, 0.1],\n",
              "        [1.4, 0.2],\n",
              "        [1.5, 0.2],\n",
              "        [1.2, 0.2],\n",
              "        [1.3, 0.2],\n",
              "        [1.4, 0.1],\n",
              "        [1.3, 0.2],\n",
              "        [1.5, 0.2],\n",
              "        [1.3, 0.3],\n",
              "        [1.3, 0.3],\n",
              "        [1.3, 0.2],\n",
              "        [1.6, 0.6],\n",
              "        [1.9, 0.4],\n",
              "        [1.4, 0.3],\n",
              "        [1.6, 0.2],\n",
              "        [1.4, 0.2],\n",
              "        [1.5, 0.2],\n",
              "        [1.4, 0.2],\n",
              "        [4.7, 1.4],\n",
              "        [4.5, 1.5],\n",
              "        [4.9, 1.5],\n",
              "        [4. , 1.3],\n",
              "        [4.6, 1.5],\n",
              "        [4.5, 1.3],\n",
              "        [4.7, 1.6],\n",
              "        [3.3, 1. ],\n",
              "        [4.6, 1.3],\n",
              "        [3.9, 1.4],\n",
              "        [3.5, 1. ],\n",
              "        [4.2, 1.5],\n",
              "        [4. , 1. ],\n",
              "        [4.7, 1.4],\n",
              "        [3.6, 1.3],\n",
              "        [4.4, 1.4],\n",
              "        [4.5, 1.5],\n",
              "        [4.1, 1. ],\n",
              "        [4.5, 1.5],\n",
              "        [3.9, 1.1],\n",
              "        [4.8, 1.8],\n",
              "        [4. , 1.3],\n",
              "        [4.9, 1.5],\n",
              "        [4.7, 1.2],\n",
              "        [4.3, 1.3],\n",
              "        [4.4, 1.4],\n",
              "        [4.8, 1.4],\n",
              "        [5. , 1.7],\n",
              "        [4.5, 1.5],\n",
              "        [3.5, 1. ],\n",
              "        [3.8, 1.1],\n",
              "        [3.7, 1. ],\n",
              "        [3.9, 1.2],\n",
              "        [5.1, 1.6],\n",
              "        [4.5, 1.5],\n",
              "        [4.5, 1.6],\n",
              "        [4.7, 1.5],\n",
              "        [4.4, 1.3],\n",
              "        [4.1, 1.3],\n",
              "        [4. , 1.3],\n",
              "        [4.4, 1.2],\n",
              "        [4.6, 1.4],\n",
              "        [4. , 1.2],\n",
              "        [3.3, 1. ],\n",
              "        [4.2, 1.3],\n",
              "        [4.2, 1.2],\n",
              "        [4.2, 1.3],\n",
              "        [4.3, 1.3],\n",
              "        [3. , 1.1],\n",
              "        [4.1, 1.3],\n",
              "        [6. , 2.5],\n",
              "        [5.1, 1.9],\n",
              "        [5.9, 2.1],\n",
              "        [5.6, 1.8],\n",
              "        [5.8, 2.2],\n",
              "        [6.6, 2.1],\n",
              "        [4.5, 1.7],\n",
              "        [6.3, 1.8],\n",
              "        [5.8, 1.8],\n",
              "        [6.1, 2.5],\n",
              "        [5.1, 2. ],\n",
              "        [5.3, 1.9],\n",
              "        [5.5, 2.1],\n",
              "        [5. , 2. ],\n",
              "        [5.1, 2.4],\n",
              "        [5.3, 2.3],\n",
              "        [5.5, 1.8],\n",
              "        [6.7, 2.2],\n",
              "        [6.9, 2.3],\n",
              "        [5. , 1.5],\n",
              "        [5.7, 2.3],\n",
              "        [4.9, 2. ],\n",
              "        [6.7, 2. ],\n",
              "        [4.9, 1.8],\n",
              "        [5.7, 2.1],\n",
              "        [6. , 1.8],\n",
              "        [4.8, 1.8],\n",
              "        [4.9, 1.8],\n",
              "        [5.6, 2.1],\n",
              "        [5.8, 1.6],\n",
              "        [6.1, 1.9],\n",
              "        [6.4, 2. ],\n",
              "        [5.6, 2.2],\n",
              "        [5.1, 1.5],\n",
              "        [5.6, 1.4],\n",
              "        [6.1, 2.3],\n",
              "        [5.6, 2.4],\n",
              "        [5.5, 1.8],\n",
              "        [4.8, 1.8],\n",
              "        [5.4, 2.1],\n",
              "        [5.6, 2.4],\n",
              "        [5.1, 2.3],\n",
              "        [5.1, 1.9],\n",
              "        [5.9, 2.3],\n",
              "        [5.7, 2.5],\n",
              "        [5.2, 2.3],\n",
              "        [5. , 1.9],\n",
              "        [5.2, 2. ],\n",
              "        [5.4, 2.3],\n",
              "        [5.1, 1.8]]),\n",
              " 0      False\n",
              " 1      False\n",
              " 2      False\n",
              " 3      False\n",
              " 4      False\n",
              "        ...  \n",
              " 145     True\n",
              " 146     True\n",
              " 147     True\n",
              " 148     True\n",
              " 149     True\n",
              " Name: target, Length: 150, dtype: bool)"
            ]
          },
          "metadata": {},
          "execution_count": 9
        }
      ]
    },
    {
      "cell_type": "code",
      "source": [
        "X_plot = X\n",
        "y_plot = iris.target\n",
        "setosa_or_versicolor = (y == 0) | (y == 1)\n",
        "X = X_plot[ setosa_or_versicolor]\n",
        "y = y_plot[setosa_or_versicolor]\n",
        "\n",
        "#SVM classifier model:\n",
        "svm_clf = SVC(kernel = \"linear\", C=float(\"inf\"))\n",
        "svm_clf.fit(X,y)\n",
        "\n",
        "# Bad models\n",
        "x0 = np.linspace(0, 5.5, 200)\n",
        "pred_1 = 5 * x0 - 20\n",
        "pred_2 = x0 - 1.8\n",
        "pred_3 = 0.1 * x0 + 0.5\n",
        "\n"
      ],
      "metadata": {
        "id": "tmLHeRb8AIHG"
      },
      "execution_count": null,
      "outputs": []
    }
  ]
}