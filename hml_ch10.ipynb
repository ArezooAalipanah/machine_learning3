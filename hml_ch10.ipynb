{
  "nbformat": 4,
  "nbformat_minor": 0,
  "metadata": {
    "colab": {
      "provenance": [],
      "authorship_tag": "ABX9TyM5Odt2kECz1/5kCs5mOnZ6",
      "include_colab_link": true
    },
    "kernelspec": {
      "name": "python3",
      "display_name": "Python 3"
    },
    "language_info": {
      "name": "python"
    }
  },
  "cells": [
    {
      "cell_type": "markdown",
      "metadata": {
        "id": "view-in-github",
        "colab_type": "text"
      },
      "source": [
        "<a href=\"https://colab.research.google.com/github/ArezooAalipanah/machine_learning3/blob/main/hml_ch10.ipynb\" target=\"_parent\"><img src=\"https://colab.research.google.com/assets/colab-badge.svg\" alt=\"Open In Colab\"/></a>"
      ]
    },
    {
      "cell_type": "markdown",
      "source": [
        "# Chapter 10! : Introduction to Artificial Neural Networks with Keras 🧠"
      ],
      "metadata": {
        "id": "BGYjyddTSQ59"
      }
    },
    {
      "cell_type": "markdown",
      "source": [
        "## The Perceptron"
      ],
      "metadata": {
        "id": "zpD5H8zWSidZ"
      }
    },
    {
      "cell_type": "code",
      "source": [
        "import numpy as np\n",
        "from sklearn.datasets import load_iris\n",
        "from sklearn.linear_model import Perceptron\n",
        "iris = load_iris(as_frame=True)\n",
        "X = iris.data[[\"petal length (cm)\", \"petal width (cm)\"]].values\n",
        "y = (iris.target == 0) # Iris setosa\n",
        "per_clf = Perceptron(random_state=42)\n",
        "per_clf.fit(X, y)\n",
        "X_new = [[2, 0.5], [3, 1]]\n",
        "y_pred = per_clf.predict(X_new) # predicts True and False for these 2 flowers"
      ],
      "metadata": {
        "id": "FGkFmNO7SeU8"
      },
      "execution_count": 1,
      "outputs": []
    },
    {
      "cell_type": "code",
      "source": [
        "y_pred"
      ],
      "metadata": {
        "colab": {
          "base_uri": "https://localhost:8080/"
        },
        "id": "d1ly9Ec2ShMK",
        "outputId": "63f78452-986b-4fbd-cd57-5ea0dc89aa22"
      },
      "execution_count": 2,
      "outputs": [
        {
          "output_type": "execute_result",
          "data": {
            "text/plain": [
              "array([ True, False])"
            ]
          },
          "metadata": {},
          "execution_count": 2
        }
      ]
    },
    {
      "cell_type": "code",
      "source": [],
      "metadata": {
        "id": "IMF6EtadSnrM"
      },
      "execution_count": 2,
      "outputs": []
    },
    {
      "cell_type": "markdown",
      "source": [
        "##The Multilayer Perceptron and Backpropagation\n"
      ],
      "metadata": {
        "id": "KqgU-C4oS3eQ"
      }
    },
    {
      "cell_type": "code",
      "source": [
        "\"\"\"\n",
        "The following code:\n",
        "1. fetching and splitting the dataset\n",
        "2.creates a pipeline to standardize the input features before sending them to\n",
        "the MLPRegressor.  very important : gradient descent does not converge very well\n",
        " when the features have very different scales.\n",
        "3. code trains the model and evaluates its validation error.\n",
        "model uses the ReLU activation function in the hidden layers,\n",
        "uses a variant of gradient descent called Adam  to minimize the MSE\n",
        "a little bit of ℓ2 regularization (you can control via the alpha hyperparameter):\n",
        "\"\"\"\n",
        "from sklearn.datasets import fetch_california_housing\n",
        "from sklearn.metrics import mean_squared_error\n",
        "from sklearn.model_selection import train_test_split\n",
        "from sklearn.neural_network import MLPRegressor\n",
        "from sklearn.pipeline import make_pipeline\n",
        "from sklearn.preprocessing import StandardScaler\n",
        "\n",
        "\n",
        "housing = fetch_california_housing()\n",
        "X_train_full, X_test, y_train_full, y_test = train_test_split(\n",
        "    housing.data, housing.target, random_state=42)\n",
        "X_train, X_valid, y_train, y_valid = train_test_split(\n",
        "    X_train_full, y_train_full, random_state=42)\n",
        "\n",
        "mlp_reg = MLPRegressor(hidden_layer_sizes = [50, 50, 50], random_state=42)\n",
        "pipeline = make_pipeline(StandardScaler(), mlp_reg)\n",
        "pipeline.fit(X_train, y_train)\n",
        "y_pred = pipeline.predict(X_valid)\n",
        "rmse = mean_squared_error(y_valid, y_pred, squared = False)"
      ],
      "metadata": {
        "id": "UPYgJJjoS4aJ"
      },
      "execution_count": 3,
      "outputs": []
    },
    {
      "cell_type": "code",
      "source": [
        "rmse"
      ],
      "metadata": {
        "colab": {
          "base_uri": "https://localhost:8080/"
        },
        "id": "h1fLuUKS_jvx",
        "outputId": "ab652e0a-eb36-4862-8a20-3ef763135540"
      },
      "execution_count": 4,
      "outputs": [
        {
          "output_type": "execute_result",
          "data": {
            "text/plain": [
              "0.5053326657968679"
            ]
          },
          "metadata": {},
          "execution_count": 4
        }
      ]
    },
    {
      "cell_type": "code",
      "source": [],
      "metadata": {
        "id": "O96LCUCy_6gv"
      },
      "execution_count": 4,
      "outputs": []
    },
    {
      "cell_type": "markdown",
      "source": [
        "## Implementing MLPs with Keras"
      ],
      "metadata": {
        "id": "021XsqAwVlvH"
      }
    },
    {
      "cell_type": "code",
      "source": [
        "import tensorflow as tf\n",
        "\n",
        "fashion_mnist = tf.keras.datasets.fashion_mnist.load_data()\n",
        "\n",
        "(X_train_full, y_train_full), (X_test, y_test) = fashion_mnist\n",
        "X_train, y_train = X_train_full[: -5000], y_train_full[: -5000]\n",
        "X_valid, y_valid = X_train_full[-5000:], y_train_full[-5000:]"
      ],
      "metadata": {
        "colab": {
          "base_uri": "https://localhost:8080/"
        },
        "id": "6EKboifdVp2G",
        "outputId": "614ffc93-6410-4a96-8200-c6958623a2cd"
      },
      "execution_count": 5,
      "outputs": [
        {
          "output_type": "stream",
          "name": "stdout",
          "text": [
            "Downloading data from https://storage.googleapis.com/tensorflow/tf-keras-datasets/train-labels-idx1-ubyte.gz\n",
            "29515/29515 [==============================] - 0s 0us/step\n",
            "Downloading data from https://storage.googleapis.com/tensorflow/tf-keras-datasets/train-images-idx3-ubyte.gz\n",
            "26421880/26421880 [==============================] - 0s 0us/step\n",
            "Downloading data from https://storage.googleapis.com/tensorflow/tf-keras-datasets/t10k-labels-idx1-ubyte.gz\n",
            "5148/5148 [==============================] - 0s 0us/step\n",
            "Downloading data from https://storage.googleapis.com/tensorflow/tf-keras-datasets/t10k-images-idx3-ubyte.gz\n",
            "4422102/4422102 [==============================] - 0s 0us/step\n"
          ]
        }
      ]
    },
    {
      "cell_type": "code",
      "source": [
        "X_train.shape"
      ],
      "metadata": {
        "colab": {
          "base_uri": "https://localhost:8080/"
        },
        "id": "rF9z39KyWQfB",
        "outputId": "2d658f0b-e60c-4091-a335-683bc0a3cbf8"
      },
      "execution_count": 6,
      "outputs": [
        {
          "output_type": "execute_result",
          "data": {
            "text/plain": [
              "(55000, 28, 28)"
            ]
          },
          "metadata": {},
          "execution_count": 6
        }
      ]
    },
    {
      "cell_type": "code",
      "source": [
        "X_train.dtype"
      ],
      "metadata": {
        "colab": {
          "base_uri": "https://localhost:8080/"
        },
        "id": "QsQUdUfHXVRT",
        "outputId": "ca2cffe3-1bc1-4058-acf5-c70f0d34e32c"
      },
      "execution_count": 7,
      "outputs": [
        {
          "output_type": "execute_result",
          "data": {
            "text/plain": [
              "dtype('uint8')"
            ]
          },
          "metadata": {},
          "execution_count": 7
        }
      ]
    },
    {
      "cell_type": "code",
      "source": [
        "#scale the pixel intensities down to the 0–1 range by dividing them\n",
        "#by 255.0 (this also converts them to floats):\n",
        "\n",
        "X_train, X_valid, X_test = X_train / 255., X_valid / 255., X_test / 255."
      ],
      "metadata": {
        "id": "mnHUEG1NXXjp"
      },
      "execution_count": 8,
      "outputs": []
    },
    {
      "cell_type": "code",
      "source": [
        "class_names= [\"T-shirt/top\", \"Trouser\", \"Pullover\", \"Dress\", \"Coat\",\n",
        "              \"Sandal\", \"Shirt\", \"Sneaker\", \"Bag\", \"Ankle boot\"]"
      ],
      "metadata": {
        "id": "lCpdNBuhXvIt"
      },
      "execution_count": 9,
      "outputs": []
    },
    {
      "cell_type": "code",
      "source": [
        "class_names[y_train[0]]"
      ],
      "metadata": {
        "colab": {
          "base_uri": "https://localhost:8080/",
          "height": 36
        },
        "id": "QJ-g_15hYCtm",
        "outputId": "158a69a7-52b2-42c3-b80d-10b75ae48510"
      },
      "execution_count": 10,
      "outputs": [
        {
          "output_type": "execute_result",
          "data": {
            "text/plain": [
              "'Ankle boot'"
            ],
            "application/vnd.google.colaboratory.intrinsic+json": {
              "type": "string"
            }
          },
          "metadata": {},
          "execution_count": 10
        }
      ]
    },
    {
      "cell_type": "code",
      "source": [
        "import matplotlib.pyplot as plt\n"
      ],
      "metadata": {
        "id": "b-hcx1ueYH8f"
      },
      "execution_count": 11,
      "outputs": []
    },
    {
      "cell_type": "code",
      "source": [
        "plt.imshow(X_train[0], cmap=\"binary\")\n",
        "plt.axis('off')\n",
        "plt.show()"
      ],
      "metadata": {
        "colab": {
          "base_uri": "https://localhost:8080/",
          "height": 406
        },
        "id": "CtPV6b5YYTG9",
        "outputId": "1f32152c-1d74-45de-eef3-ffbfe2709369"
      },
      "execution_count": 12,
      "outputs": [
        {
          "output_type": "display_data",
          "data": {
            "text/plain": [
              "<Figure size 640x480 with 1 Axes>"
            ],
            "image/png": "[encoded data removed]"
          },
          "metadata": {}
        }
      ]
    },
    {
      "cell_type": "markdown",
      "source": [
        "### Creating the model using the sequential API"
      ],
      "metadata": {
        "id": "Sdkg6hZOYqzb"
      }
    },
    {
      "cell_type": "code",
      "source": [
        "# a calssification MLP with 2 hidden layers\n",
        "tf.random.set_seed(42)\n",
        "model = tf.keras.Sequential()\n",
        "model.add(tf.keras.layers.Input(shape = [28, 28]))\n",
        "model.add(tf.keras.layers.Flatten())\n",
        "model.add(tf.keras.layers.Dense(300, activation=\"relu\"))\n",
        "model.add(tf.keras.layers.Dense(100, activation=\"relu\"))\n",
        "model.add(tf.keras.layers.Dense(10, activation=\"softmax\"))"
      ],
      "metadata": {
        "id": "43tvfWWNYTZs"
      },
      "execution_count": 13,
      "outputs": []
    },
    {
      "cell_type": "code",
      "source": [
        "\"\"\"it’s often more convenient to pass a list of layers\n",
        "when creating the Sequential model. You can also drop the Input\n",
        "layer and instead specify the input_shape in the first layer:\n",
        "\"\"\"\n",
        "model = tf.keras.Sequential([\n",
        "    tf.keras.layers.Flatten(input_shape = [28,28]),\n",
        "    tf.keras.layers.Dense(300, activation=\"relu\"),\n",
        "    tf.keras.layers.Dense(100, activation=\"relu\"),\n",
        "    tf.keras.layers.Dense(10, activation=\"softmax\")\n",
        "    ])"
      ],
      "metadata": {
        "id": "1dDE5BW0Ztyk"
      },
      "execution_count": 14,
      "outputs": []
    },
    {
      "cell_type": "code",
      "source": [
        "model.summary()"
      ],
      "metadata": {
        "colab": {
          "base_uri": "https://localhost:8080/"
        },
        "id": "WNf8oXFUdNqq",
        "outputId": "380a34db-bf75-43ce-f221-f2001798665d"
      },
      "execution_count": 15,
      "outputs": [
        {
          "output_type": "stream",
          "name": "stdout",
          "text": [
            "Model: \"sequential_1\"\n",
            "_________________________________________________________________\n",
            " Layer (type)                Output Shape              Param #   \n",
            "=================================================================\n",
            " flatten_1 (Flatten)         (None, 784)               0         \n",
            "                                                                 \n",
            " dense_3 (Dense)             (None, 300)               235500    \n",
            "                                                                 \n",
            " dense_4 (Dense)             (None, 100)               30100     \n",
            "                                                                 \n",
            " dense_5 (Dense)             (None, 10)                1010      \n",
            "                                                                 \n",
            "=================================================================\n",
            "Total params: 266,610\n",
            "Trainable params: 266,610\n",
            "Non-trainable params: 0\n",
            "_________________________________________________________________\n"
          ]
        }
      ]
    },
    {
      "cell_type": "code",
      "source": [
        "tf.keras.utils.plot_model(model)"
      ],
      "metadata": {
        "colab": {
          "base_uri": "https://localhost:8080/",
          "height": 466
        },
        "id": "ZYQsnF9fdU7-",
        "outputId": "703345a8-c20a-4375-e23d-05bc327d0869"
      },
      "execution_count": 16,
      "outputs": [
        {
          "output_type": "execute_result",
          "data": {
            "image/png": "[encoded data removed]",
            "text/plain": [
              "<IPython.core.display.Image object>"
            ]
          },
          "metadata": {},
          "execution_count": 16
        }
      ]
    },
    {
      "cell_type": "code",
      "source": [
        "# get a model's layers\n",
        "model.layers"
      ],
      "metadata": {
        "colab": {
          "base_uri": "https://localhost:8080/"
        },
        "id": "ZAmIhFsDdz05",
        "outputId": "4bceac71-455e-49a8-97ba-bc3962178544"
      },
      "execution_count": 17,
      "outputs": [
        {
          "output_type": "execute_result",
          "data": {
            "text/plain": [
              "[<keras.layers.reshaping.flatten.Flatten at 0x7feda46cb0a0>,\n",
              " <keras.layers.core.dense.Dense at 0x7feda46caec0>,\n",
              " <keras.layers.core.dense.Dense at 0x7feda46cb010>,\n",
              " <keras.layers.core.dense.Dense at 0x7feda46cbd00>]"
            ]
          },
          "metadata": {},
          "execution_count": 17
        }
      ]
    },
    {
      "cell_type": "code",
      "source": [
        "hidden1 = model.layers[1]\n",
        "hidden1"
      ],
      "metadata": {
        "colab": {
          "base_uri": "https://localhost:8080/"
        },
        "id": "8CGv6JxfIHFf",
        "outputId": "4f69ac1a-d9c1-4bbe-b4a0-44dc17e5fe84"
      },
      "execution_count": 18,
      "outputs": [
        {
          "output_type": "execute_result",
          "data": {
            "text/plain": [
              "<keras.layers.core.dense.Dense at 0x7feda46caec0>"
            ]
          },
          "metadata": {},
          "execution_count": 18
        }
      ]
    },
    {
      "cell_type": "code",
      "source": [
        "hidden1.name"
      ],
      "metadata": {
        "colab": {
          "base_uri": "https://localhost:8080/",
          "height": 36
        },
        "id": "nJlYbdnCIX1K",
        "outputId": "89f9cf60-341f-48c4-a840-e91ad49e8cb6"
      },
      "execution_count": 19,
      "outputs": [
        {
          "output_type": "execute_result",
          "data": {
            "text/plain": [
              "'dense_3'"
            ],
            "application/vnd.google.colaboratory.intrinsic+json": {
              "type": "string"
            }
          },
          "metadata": {},
          "execution_count": 19
        }
      ]
    },
    {
      "cell_type": "code",
      "source": [
        "model.get_layer(\"dense_3\")\n"
      ],
      "metadata": {
        "colab": {
          "base_uri": "https://localhost:8080/"
        },
        "id": "Yjk3NclfIZxo",
        "outputId": "9940caa2-8633-4415-dc5d-a4e176d66631"
      },
      "execution_count": 21,
      "outputs": [
        {
          "output_type": "execute_result",
          "data": {
            "text/plain": [
              "<keras.layers.core.dense.Dense at 0x7feda46caec0>"
            ]
          },
          "metadata": {},
          "execution_count": 21
        }
      ]
    },
    {
      "cell_type": "code",
      "source": [
        "model.get_layer(\"dense_3\") is hidden1"
      ],
      "metadata": {
        "colab": {
          "base_uri": "https://localhost:8080/"
        },
        "id": "HtbAsd0tIhFv",
        "outputId": "77175a27-5d86-4f9e-a0e6-b8bb9dee0a18"
      },
      "execution_count": 23,
      "outputs": [
        {
          "output_type": "execute_result",
          "data": {
            "text/plain": [
              "True"
            ]
          },
          "metadata": {},
          "execution_count": 23
        }
      ]
    },
    {
      "cell_type": "code",
      "source": [
        "\"\"\"All the parameters of a layer can be accessed using its get_weights() and\n",
        "set_weights() methods. For a Dense layer, this includes both connection weights\n",
        "and the bias terms\"\"\"\n",
        "\n",
        "weights, biases = hidden1.get_weights()\n"
      ],
      "metadata": {
        "id": "dOLCoHqyIhDX"
      },
      "execution_count": 24,
      "outputs": []
    },
    {
      "cell_type": "code",
      "source": [
        "weights"
      ],
      "metadata": {
        "colab": {
          "base_uri": "https://localhost:8080/"
        },
        "id": "5dAkRZMXIg0P",
        "outputId": "99bb7fe8-28ab-4116-aba0-0d77dcffb7f5"
      },
      "execution_count": 25,
      "outputs": [
        {
          "output_type": "execute_result",
          "data": {
            "text/plain": [
              "array([[ 0.0257628 ,  0.01532027,  0.05281287, ...,  0.02623758,\n",
              "         0.04094268,  0.01224305],\n",
              "       [-0.01744981,  0.01388251,  0.02320419, ...,  0.05100323,\n",
              "        -0.01030041, -0.00236534],\n",
              "       [ 0.02792002, -0.0572546 , -0.04008379, ...,  0.03668186,\n",
              "         0.03639075, -0.01390861],\n",
              "       ...,\n",
              "       [-0.00166092,  0.03833301, -0.05352807, ..., -0.01016443,\n",
              "        -0.03775215, -0.04203286],\n",
              "       [-0.0044847 ,  0.04147516,  0.05156815, ...,  0.05379893,\n",
              "        -0.00806218, -0.06815371],\n",
              "       [ 0.02225082, -0.03339488,  0.02030695, ..., -0.05657448,\n",
              "         0.07299379,  0.02239305]], dtype=float32)"
            ]
          },
          "metadata": {},
          "execution_count": 25
        }
      ]
    },
    {
      "cell_type": "code",
      "source": [
        "weights.shape"
      ],
      "metadata": {
        "colab": {
          "base_uri": "https://localhost:8080/"
        },
        "id": "UsG0Zfk5I_fF",
        "outputId": "71d98fd7-f845-425b-8427-874b47a094a6"
      },
      "execution_count": 26,
      "outputs": [
        {
          "output_type": "execute_result",
          "data": {
            "text/plain": [
              "(784, 300)"
            ]
          },
          "metadata": {},
          "execution_count": 26
        }
      ]
    },
    {
      "cell_type": "code",
      "source": [
        "biases"
      ],
      "metadata": {
        "colab": {
          "base_uri": "https://localhost:8080/"
        },
        "id": "zQbRBqzaJDqz",
        "outputId": "d0141199-8452-44b2-deb5-5205079a4f04"
      },
      "execution_count": 27,
      "outputs": [
        {
          "output_type": "execute_result",
          "data": {
            "text/plain": [
              "array([0., 0., 0., 0., 0., 0., 0., 0., 0., 0., 0., 0., 0., 0., 0., 0., 0.,\n",
              "       0., 0., 0., 0., 0., 0., 0., 0., 0., 0., 0., 0., 0., 0., 0., 0., 0.,\n",
              "       0., 0., 0., 0., 0., 0., 0., 0., 0., 0., 0., 0., 0., 0., 0., 0., 0.,\n",
              "       0., 0., 0., 0., 0., 0., 0., 0., 0., 0., 0., 0., 0., 0., 0., 0., 0.,\n",
              "       0., 0., 0., 0., 0., 0., 0., 0., 0., 0., 0., 0., 0., 0., 0., 0., 0.,\n",
              "       0., 0., 0., 0., 0., 0., 0., 0., 0., 0., 0., 0., 0., 0., 0., 0., 0.,\n",
              "       0., 0., 0., 0., 0., 0., 0., 0., 0., 0., 0., 0., 0., 0., 0., 0., 0.,\n",
              "       0., 0., 0., 0., 0., 0., 0., 0., 0., 0., 0., 0., 0., 0., 0., 0., 0.,\n",
              "       0., 0., 0., 0., 0., 0., 0., 0., 0., 0., 0., 0., 0., 0., 0., 0., 0.,\n",
              "       0., 0., 0., 0., 0., 0., 0., 0., 0., 0., 0., 0., 0., 0., 0., 0., 0.,\n",
              "       0., 0., 0., 0., 0., 0., 0., 0., 0., 0., 0., 0., 0., 0., 0., 0., 0.,\n",
              "       0., 0., 0., 0., 0., 0., 0., 0., 0., 0., 0., 0., 0., 0., 0., 0., 0.,\n",
              "       0., 0., 0., 0., 0., 0., 0., 0., 0., 0., 0., 0., 0., 0., 0., 0., 0.,\n",
              "       0., 0., 0., 0., 0., 0., 0., 0., 0., 0., 0., 0., 0., 0., 0., 0., 0.,\n",
              "       0., 0., 0., 0., 0., 0., 0., 0., 0., 0., 0., 0., 0., 0., 0., 0., 0.,\n",
              "       0., 0., 0., 0., 0., 0., 0., 0., 0., 0., 0., 0., 0., 0., 0., 0., 0.,\n",
              "       0., 0., 0., 0., 0., 0., 0., 0., 0., 0., 0., 0., 0., 0., 0., 0., 0.,\n",
              "       0., 0., 0., 0., 0., 0., 0., 0., 0., 0., 0.], dtype=float32)"
            ]
          },
          "metadata": {},
          "execution_count": 27
        }
      ]
    },
    {
      "cell_type": "code",
      "source": [
        "biases.shape"
      ],
      "metadata": {
        "colab": {
          "base_uri": "https://localhost:8080/"
        },
        "id": "M8YIe4XbJEti",
        "outputId": "63751f86-e8a6-48fe-c27b-c88ff8bee8ea"
      },
      "execution_count": 28,
      "outputs": [
        {
          "output_type": "execute_result",
          "data": {
            "text/plain": [
              "(300,)"
            ]
          },
          "metadata": {},
          "execution_count": 28
        }
      ]
    },
    {
      "cell_type": "code",
      "source": [
        "# compiling the model\n",
        "model.compile(loss = \"sparse_categorical_crossentropy\",\n",
        "              optimizer = \"sgd\",\n",
        "              metrics=[\"accuracy\"])"
      ],
      "metadata": {
        "id": "MZ_pjPK3JGyN"
      },
      "execution_count": 31,
      "outputs": []
    },
    {
      "cell_type": "code",
      "source": [
        "#Training and evaluating the model\n",
        "\n",
        "history = model.fit(X_train, y_train, epochs = 30,\n",
        "                    validation_data = (X_valid, y_valid))"
      ],
      "metadata": {
        "colab": {
          "base_uri": "https://localhost:8080/"
        },
        "id": "oII39cZ9Ny9k",
        "outputId": "d0ef4e74-e216-4cef-a800-33f71cc93540"
      },
      "execution_count": 32,
      "outputs": [
        {
          "output_type": "stream",
          "name": "stdout",
          "text": [
            "Epoch 1/30\n",
            "1719/1719 [==============================] - 11s 6ms/step - loss: 0.7191 - accuracy: 0.7615 - val_loss: 0.5090 - val_accuracy: 0.8274\n",
            "Epoch 2/30\n",
            "1719/1719 [==============================] - 9s 5ms/step - loss: 0.4930 - accuracy: 0.8280 - val_loss: 0.4729 - val_accuracy: 0.8270\n",
            "Epoch 3/30\n",
            "1719/1719 [==============================] - 7s 4ms/step - loss: 0.4457 - accuracy: 0.8434 - val_loss: 0.4346 - val_accuracy: 0.8446\n",
            "Epoch 4/30\n",
            "1719/1719 [==============================] - 9s 5ms/step - loss: 0.4203 - accuracy: 0.8521 - val_loss: 0.4020 - val_accuracy: 0.8604\n",
            "Epoch 5/30\n",
            "1719/1719 [==============================] - 9s 5ms/step - loss: 0.3986 - accuracy: 0.8596 - val_loss: 0.3943 - val_accuracy: 0.8620\n",
            "Epoch 6/30\n",
            "1719/1719 [==============================] - 9s 5ms/step - loss: 0.3821 - accuracy: 0.8646 - val_loss: 0.3955 - val_accuracy: 0.8580\n",
            "Epoch 7/30\n",
            "1719/1719 [==============================] - 8s 5ms/step - loss: 0.3689 - accuracy: 0.8686 - val_loss: 0.3799 - val_accuracy: 0.8688\n",
            "Epoch 8/30\n",
            "1719/1719 [==============================] - 8s 5ms/step - loss: 0.3570 - accuracy: 0.8733 - val_loss: 0.3769 - val_accuracy: 0.8632\n",
            "Epoch 9/30\n",
            "1719/1719 [==============================] - 8s 4ms/step - loss: 0.3455 - accuracy: 0.8777 - val_loss: 0.3509 - val_accuracy: 0.8762\n",
            "Epoch 10/30\n",
            "1719/1719 [==============================] - 10s 6ms/step - loss: 0.3350 - accuracy: 0.8799 - val_loss: 0.3523 - val_accuracy: 0.8740\n",
            "Epoch 11/30\n",
            "1719/1719 [==============================] - 8s 5ms/step - loss: 0.3264 - accuracy: 0.8841 - val_loss: 0.3702 - val_accuracy: 0.8656\n",
            "Epoch 12/30\n",
            "1719/1719 [==============================] - 8s 4ms/step - loss: 0.3178 - accuracy: 0.8858 - val_loss: 0.3509 - val_accuracy: 0.8746\n",
            "Epoch 13/30\n",
            "1719/1719 [==============================] - 8s 5ms/step - loss: 0.3102 - accuracy: 0.8899 - val_loss: 0.3314 - val_accuracy: 0.8776\n",
            "Epoch 14/30\n",
            "1719/1719 [==============================] - 7s 4ms/step - loss: 0.3030 - accuracy: 0.8908 - val_loss: 0.3419 - val_accuracy: 0.8768\n",
            "Epoch 15/30\n",
            "1719/1719 [==============================] - 8s 5ms/step - loss: 0.2967 - accuracy: 0.8950 - val_loss: 0.3354 - val_accuracy: 0.8794\n",
            "Epoch 16/30\n",
            "1719/1719 [==============================] - 8s 5ms/step - loss: 0.2889 - accuracy: 0.8961 - val_loss: 0.3268 - val_accuracy: 0.8812\n",
            "Epoch 17/30\n",
            "1719/1719 [==============================] - 7s 4ms/step - loss: 0.2839 - accuracy: 0.8976 - val_loss: 0.3335 - val_accuracy: 0.8788\n",
            "Epoch 18/30\n",
            "1719/1719 [==============================] - 8s 5ms/step - loss: 0.2776 - accuracy: 0.9007 - val_loss: 0.3280 - val_accuracy: 0.8820\n",
            "Epoch 19/30\n",
            "1719/1719 [==============================] - 8s 5ms/step - loss: 0.2721 - accuracy: 0.9028 - val_loss: 0.3470 - val_accuracy: 0.8704\n",
            "Epoch 20/30\n",
            "1719/1719 [==============================] - 8s 4ms/step - loss: 0.2672 - accuracy: 0.9045 - val_loss: 0.3196 - val_accuracy: 0.8820\n",
            "Epoch 21/30\n",
            "1719/1719 [==============================] - 8s 5ms/step - loss: 0.2612 - accuracy: 0.9059 - val_loss: 0.3172 - val_accuracy: 0.8834\n",
            "Epoch 22/30\n",
            "1719/1719 [==============================] - 7s 4ms/step - loss: 0.2564 - accuracy: 0.9073 - val_loss: 0.3154 - val_accuracy: 0.8866\n",
            "Epoch 23/30\n",
            "1719/1719 [==============================] - 8s 5ms/step - loss: 0.2516 - accuracy: 0.9087 - val_loss: 0.3424 - val_accuracy: 0.8710\n",
            "Epoch 24/30\n",
            "1719/1719 [==============================] - 7s 4ms/step - loss: 0.2462 - accuracy: 0.9109 - val_loss: 0.3202 - val_accuracy: 0.8798\n",
            "Epoch 25/30\n",
            "1719/1719 [==============================] - 8s 5ms/step - loss: 0.2419 - accuracy: 0.9131 - val_loss: 0.3181 - val_accuracy: 0.8830\n",
            "Epoch 26/30\n",
            "1719/1719 [==============================] - 8s 5ms/step - loss: 0.2386 - accuracy: 0.9149 - val_loss: 0.3113 - val_accuracy: 0.8850\n",
            "Epoch 27/30\n",
            "1719/1719 [==============================] - 7s 4ms/step - loss: 0.2332 - accuracy: 0.9161 - val_loss: 0.3112 - val_accuracy: 0.8874\n",
            "Epoch 28/30\n",
            "1719/1719 [==============================] - 9s 5ms/step - loss: 0.2299 - accuracy: 0.9179 - val_loss: 0.3080 - val_accuracy: 0.8880\n",
            "Epoch 29/30\n",
            "1719/1719 [==============================] - 7s 4ms/step - loss: 0.2257 - accuracy: 0.9187 - val_loss: 0.3167 - val_accuracy: 0.8848\n",
            "Epoch 30/30\n",
            "1719/1719 [==============================] - 8s 5ms/step - loss: 0.2221 - accuracy: 0.9210 - val_loss: 0.3089 - val_accuracy: 0.8868\n"
          ]
        }
      ]
    },
    {
      "cell_type": "code",
      "source": [
        "history.history"
      ],
      "metadata": {
        "colab": {
          "base_uri": "https://localhost:8080/"
        },
        "id": "Br4oWDvHPO9d",
        "outputId": "4271b3a8-2e00-4923-dfd4-e43dc08e6eaa"
      },
      "execution_count": 33,
      "outputs": [
        {
          "output_type": "execute_result",
          "data": {
            "text/plain": [
              "{'loss': [0.7191326022148132,\n",
              "  0.49296438694000244,\n",
              "  0.4457269310951233,\n",
              "  0.4202963411808014,\n",
              "  0.3986358046531677,\n",
              "  0.38210543990135193,\n",
              "  0.36888429522514343,\n",
              "  0.3569847047328949,\n",
              "  0.3454827070236206,\n",
              "  0.33502718806266785,\n",
              "  0.3264476954936981,\n",
              "  0.31775549054145813,\n",
              "  0.31024786829948425,\n",
              "  0.30303749442100525,\n",
              "  0.2966564893722534,\n",
              "  0.28892919421195984,\n",
              "  0.28392675518989563,\n",
              "  0.2775963842868805,\n",
              "  0.272126168012619,\n",
              "  0.2671501338481903,\n",
              "  0.2611926794052124,\n",
              "  0.2564257085323334,\n",
              "  0.2515629231929779,\n",
              "  0.24615119397640228,\n",
              "  0.24193313717842102,\n",
              "  0.23857848346233368,\n",
              "  0.23323242366313934,\n",
              "  0.22985361516475677,\n",
              "  0.22567424178123474,\n",
              "  0.2220676988363266],\n",
              " 'accuracy': [0.7614727020263672,\n",
              "  0.8280181884765625,\n",
              "  0.8433818221092224,\n",
              "  0.8521272540092468,\n",
              "  0.8596363663673401,\n",
              "  0.8645636439323425,\n",
              "  0.8685636520385742,\n",
              "  0.8733272552490234,\n",
              "  0.8776909112930298,\n",
              "  0.8799454569816589,\n",
              "  0.8840727210044861,\n",
              "  0.8858363628387451,\n",
              "  0.8899090886116028,\n",
              "  0.890818178653717,\n",
              "  0.8949636220932007,\n",
              "  0.8960909247398376,\n",
              "  0.8976181745529175,\n",
              "  0.9006545543670654,\n",
              "  0.9028000235557556,\n",
              "  0.9044727087020874,\n",
              "  0.905927300453186,\n",
              "  0.9073454737663269,\n",
              "  0.9087454676628113,\n",
              "  0.910945475101471,\n",
              "  0.9130727052688599,\n",
              "  0.9148908853530884,\n",
              "  0.9160727262496948,\n",
              "  0.9178545475006104,\n",
              "  0.9187272787094116,\n",
              "  0.9209818243980408],\n",
              " 'val_loss': [0.5090336799621582,\n",
              "  0.47294947504997253,\n",
              "  0.43460747599601746,\n",
              "  0.4019737243652344,\n",
              "  0.39434075355529785,\n",
              "  0.3955053389072418,\n",
              "  0.37985312938690186,\n",
              "  0.3769305944442749,\n",
              "  0.35092636942863464,\n",
              "  0.3522869348526001,\n",
              "  0.3701671063899994,\n",
              "  0.3509453237056732,\n",
              "  0.33141452074050903,\n",
              "  0.3418808877468109,\n",
              "  0.33542943000793457,\n",
              "  0.3268367350101471,\n",
              "  0.33350813388824463,\n",
              "  0.32804545760154724,\n",
              "  0.34696394205093384,\n",
              "  0.31961512565612793,\n",
              "  0.3171529471874237,\n",
              "  0.315378874540329,\n",
              "  0.3423527777194977,\n",
              "  0.3201967477798462,\n",
              "  0.3180658221244812,\n",
              "  0.3113146722316742,\n",
              "  0.3111875355243683,\n",
              "  0.30798014998435974,\n",
              "  0.3166588246822357,\n",
              "  0.3089265823364258],\n",
              " 'val_accuracy': [0.8274000287055969,\n",
              "  0.8270000219345093,\n",
              "  0.8446000218391418,\n",
              "  0.8604000210762024,\n",
              "  0.8619999885559082,\n",
              "  0.8579999804496765,\n",
              "  0.8687999844551086,\n",
              "  0.8632000088691711,\n",
              "  0.8762000203132629,\n",
              "  0.8740000128746033,\n",
              "  0.8655999898910522,\n",
              "  0.8745999932289124,\n",
              "  0.8776000142097473,\n",
              "  0.876800000667572,\n",
              "  0.8794000148773193,\n",
              "  0.8812000155448914,\n",
              "  0.8787999749183655,\n",
              "  0.8820000290870667,\n",
              "  0.8704000115394592,\n",
              "  0.8820000290870667,\n",
              "  0.883400022983551,\n",
              "  0.8866000175476074,\n",
              "  0.8709999918937683,\n",
              "  0.879800021648407,\n",
              "  0.8830000162124634,\n",
              "  0.8849999904632568,\n",
              "  0.8873999714851379,\n",
              "  0.8880000114440918,\n",
              "  0.8848000168800354,\n",
              "  0.8867999911308289]}"
            ]
          },
          "metadata": {},
          "execution_count": 33
        }
      ]
    },
    {
      "cell_type": "code",
      "source": [
        "import matplotlib.pyplot as plt\n",
        "import pandas as pd\n",
        "\n",
        "pd.DataFrame(history.history).plot(\n",
        "    figsize=(8, 5), xlim = [0, 29], ylim = [0, 1], grid = True, xlabel=\"Epoch\",\n",
        "    style = [\"r--\", \"r--.\",\"b-\", \"b-*\"])"
      ],
      "metadata": {
        "colab": {
          "base_uri": "https://localhost:8080/",
          "height": 470
        },
        "id": "5Ap4PeQiZ8Dc",
        "outputId": "4b405802-9677-49b8-b5c7-58d4694b2132"
      },
      "execution_count": 34,
      "outputs": [
        {
          "output_type": "execute_result",
          "data": {
            "text/plain": [
              "<Axes: xlabel='Epoch'>"
            ]
          },
          "metadata": {},
          "execution_count": 34
        },
        {
          "output_type": "display_data",
          "data": {
            "text/plain": [
              "<Figure size 800x500 with 1 Axes>"
            ],
            "image/png": "[encoded data removed]"
          },
          "metadata": {}
        }
      ]
    },
    {
      "cell_type": "code",
      "source": [
        "history_2 = model.fit(X_train, y_train, epochs = 20,\n",
        "                    validation_data = (X_valid, y_valid))"
      ],
      "metadata": {
        "colab": {
          "base_uri": "https://localhost:8080/"
        },
        "id": "2q6aCBYPanzN",
        "outputId": "72988e22-1304-412a-f6e4-122841d87db5"
      },
      "execution_count": 35,
      "outputs": [
        {
          "output_type": "stream",
          "name": "stdout",
          "text": [
            "Epoch 1/20\n",
            "1719/1719 [==============================] - 10s 6ms/step - loss: 0.2171 - accuracy: 0.9220 - val_loss: 0.3268 - val_accuracy: 0.8842\n",
            "Epoch 2/20\n",
            "1719/1719 [==============================] - 7s 4ms/step - loss: 0.2146 - accuracy: 0.9223 - val_loss: 0.3198 - val_accuracy: 0.8822\n",
            "Epoch 3/20\n",
            "1719/1719 [==============================] - 9s 5ms/step - loss: 0.2098 - accuracy: 0.9246 - val_loss: 0.3269 - val_accuracy: 0.8804\n",
            "Epoch 4/20\n",
            "1719/1719 [==============================] - 9s 6ms/step - loss: 0.2079 - accuracy: 0.9255 - val_loss: 0.3045 - val_accuracy: 0.8882\n",
            "Epoch 5/20\n",
            "1719/1719 [==============================] - 9s 5ms/step - loss: 0.2040 - accuracy: 0.9264 - val_loss: 0.3060 - val_accuracy: 0.8896\n",
            "Epoch 6/20\n",
            "1719/1719 [==============================] - 10s 6ms/step - loss: 0.1996 - accuracy: 0.9285 - val_loss: 0.3261 - val_accuracy: 0.8864\n",
            "Epoch 7/20\n",
            "1719/1719 [==============================] - 10s 6ms/step - loss: 0.1972 - accuracy: 0.9294 - val_loss: 0.3182 - val_accuracy: 0.8886\n",
            "Epoch 8/20\n",
            "1719/1719 [==============================] - 9s 5ms/step - loss: 0.1936 - accuracy: 0.9311 - val_loss: 0.3162 - val_accuracy: 0.8878\n",
            "Epoch 9/20\n",
            "1719/1719 [==============================] - 9s 5ms/step - loss: 0.1914 - accuracy: 0.9321 - val_loss: 0.3068 - val_accuracy: 0.8878\n",
            "Epoch 10/20\n",
            "1719/1719 [==============================] - 9s 5ms/step - loss: 0.1870 - accuracy: 0.9325 - val_loss: 0.3194 - val_accuracy: 0.8872\n",
            "Epoch 11/20\n",
            "1719/1719 [==============================] - 7s 4ms/step - loss: 0.1846 - accuracy: 0.9345 - val_loss: 0.3188 - val_accuracy: 0.8870\n",
            "Epoch 12/20\n",
            "1719/1719 [==============================] - 8s 5ms/step - loss: 0.1816 - accuracy: 0.9338 - val_loss: 0.3116 - val_accuracy: 0.8898\n",
            "Epoch 13/20\n",
            "1719/1719 [==============================] - 8s 5ms/step - loss: 0.1786 - accuracy: 0.9367 - val_loss: 0.3018 - val_accuracy: 0.8924\n",
            "Epoch 14/20\n",
            "1719/1719 [==============================] - 8s 4ms/step - loss: 0.1756 - accuracy: 0.9374 - val_loss: 0.3231 - val_accuracy: 0.8886\n",
            "Epoch 15/20\n",
            "1719/1719 [==============================] - 11s 6ms/step - loss: 0.1725 - accuracy: 0.9397 - val_loss: 0.3135 - val_accuracy: 0.8902\n",
            "Epoch 16/20\n",
            "1719/1719 [==============================] - 9s 5ms/step - loss: 0.1684 - accuracy: 0.9409 - val_loss: 0.3185 - val_accuracy: 0.8872\n",
            "Epoch 17/20\n",
            "1719/1719 [==============================] - 7s 4ms/step - loss: 0.1676 - accuracy: 0.9395 - val_loss: 0.3087 - val_accuracy: 0.8922\n",
            "Epoch 18/20\n",
            "1719/1719 [==============================] - 8s 5ms/step - loss: 0.1636 - accuracy: 0.9425 - val_loss: 0.3198 - val_accuracy: 0.8900\n",
            "Epoch 19/20\n",
            "1719/1719 [==============================] - 9s 5ms/step - loss: 0.1619 - accuracy: 0.9428 - val_loss: 0.3473 - val_accuracy: 0.8772\n",
            "Epoch 20/20\n",
            "1719/1719 [==============================] - 8s 5ms/step - loss: 0.1586 - accuracy: 0.9441 - val_loss: 0.3291 - val_accuracy: 0.8868\n"
          ]
        }
      ]
    },
    {
      "cell_type": "code",
      "source": [
        "model.evaluate(X_test, y_test)"
      ],
      "metadata": {
        "colab": {
          "base_uri": "https://localhost:8080/"
        },
        "id": "Ipl2jw43bjlu",
        "outputId": "43941900-93f8-4bc6-e698-a6151676dd04"
      },
      "execution_count": 36,
      "outputs": [
        {
          "output_type": "stream",
          "name": "stdout",
          "text": [
            "313/313 [==============================] - 1s 4ms/step - loss: 0.3385 - accuracy: 0.8894\n"
          ]
        },
        {
          "output_type": "execute_result",
          "data": {
            "text/plain": [
              "[0.33848559856414795, 0.8894000053405762]"
            ]
          },
          "metadata": {},
          "execution_count": 36
        }
      ]
    },
    {
      "cell_type": "code",
      "source": [
        "# Using the model to make predictions\n",
        "X_new = X_test[:3]\n",
        "y_proba = model.predict(X_new)\n",
        "y_proba.round(2)"
      ],
      "metadata": {
        "colab": {
          "base_uri": "https://localhost:8080/"
        },
        "id": "1ccNv7RTkJAp",
        "outputId": "ddb5967f-a623-43bb-df1b-56eb3bf623ef"
      },
      "execution_count": 38,
      "outputs": [
        {
          "output_type": "stream",
          "name": "stdout",
          "text": [
            "1/1 [==============================] - 0s 173ms/step\n"
          ]
        },
        {
          "output_type": "execute_result",
          "data": {
            "text/plain": [
              "array([[0., 0., 0., 0., 0., 0., 0., 0., 0., 1.],\n",
              "       [0., 0., 1., 0., 0., 0., 0., 0., 0., 0.],\n",
              "       [0., 1., 0., 0., 0., 0., 0., 0., 0., 0.]], dtype=float32)"
            ]
          },
          "metadata": {},
          "execution_count": 38
        }
      ]
    },
    {
      "cell_type": "code",
      "source": [],
      "metadata": {
        "id": "RaqtoDtCk3FE"
      },
      "execution_count": null,
      "outputs": []
    }
  ]
}