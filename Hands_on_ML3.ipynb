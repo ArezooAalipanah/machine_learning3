{
  "nbformat": 4,
  "nbformat_minor": 0,
  "metadata": {
    "colab": {
      "provenance": [],
      "authorship_tag": "ABX9TyOlN/UhAtVBjNtAsIfCJMuj",
      "include_colab_link": true
    },
    "kernelspec": {
      "name": "python3",
      "display_name": "Python 3"
    },
    "language_info": {
      "name": "python"
    }
  },
  "cells": [
    {
      "cell_type": "markdown",
      "metadata": {
        "id": "view-in-github",
        "colab_type": "text"
      },
      "source": [
        "<a href=\"https://colab.research.google.com/github/ArezooAalipanah/machine_learning3/blob/main/Hands_on_ML3.ipynb\" target=\"_parent\"><img src=\"https://colab.research.google.com/assets/colab-badge.svg\" alt=\"Open In Colab\"/></a>"
      ]
    },
    {
      "cell_type": "markdown",
      "source": [
        "# **Hands on Machine Learning - Chapter One - Practice**\n",
        "\n",
        "going through the codes represented in the book to warm up and learn\n"
      ],
      "metadata": {
        "id": "nkujWwYdcToS"
      }
    },
    {
      "cell_type": "code",
      "source": [
        "#@title Default title text\n",
        "#goal: \n",
        "\n",
        "#import the files\n",
        "import matplotlib.pyplot as plt\n",
        "import numpy as np\n",
        "import pandas as pd\n",
        "from sklearn.linear_model import LinearRegression\n",
        "\n",
        "\n",
        "#download and prepare the data\n",
        "data_root = \"https://github.com/ageron/data/raw/main/\"\n",
        "\n",
        "\n",
        "def main():\n",
        "  print(\"hi\")\n",
        "\n",
        "\n",
        "if __name__ == \"__main__\":\n",
        "  main()"
      ],
      "metadata": {
        "colab": {
          "base_uri": "https://localhost:8080/"
        },
        "id": "RKicymP3cgA4",
        "outputId": "ce3e1658-5142-4acf-8179-41feee84f7e8"
      },
      "execution_count": 8,
      "outputs": [
        {
          "output_type": "stream",
          "name": "stdout",
          "text": [
            "hi\n"
          ]
        }
      ]
    }
  ]
}