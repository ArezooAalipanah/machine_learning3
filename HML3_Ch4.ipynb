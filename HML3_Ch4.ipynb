{
  "nbformat": 4,
  "nbformat_minor": 0,
  "metadata": {
    "colab": {
      "provenance": [],
      "authorship_tag": "ABX9TyNKgVkgfBcZhJ/mPbsTyiyT",
      "include_colab_link": true
    },
    "kernelspec": {
      "name": "python3",
      "display_name": "Python 3"
    },
    "language_info": {
      "name": "python"
    }
  },
  "cells": [
    {
      "cell_type": "markdown",
      "metadata": {
        "id": "view-in-github",
        "colab_type": "text"
      },
      "source": [
        "<a href=\"https://colab.research.google.com/github/ArezooAalipanah/machine_learning3/blob/main/HML3_Ch4.ipynb\" target=\"_parent\"><img src=\"https://colab.research.google.com/assets/colab-badge.svg\" alt=\"Open In Colab\"/></a>"
      ]
    },
    {
      "cell_type": "markdown",
      "source": [
        "#Chapter 4 👼 Training Models\n",
        "This chapter is mostly the mathematics and the idea behind the models that are used for training:)\n",
        "\n",
        "\n"
      ],
      "metadata": {
        "id": "lkVtEtQ1liU5"
      }
    },
    {
      "cell_type": "code",
      "source": [
        "# part 1: Linear Regression\n",
        "import numpy as np\n",
        "\n",
        "np.random.seed(42)\n",
        "m = 100 # number of instances in the dataset\n",
        "\n",
        "X = 2*np.random.rand(m,1) #column vector\n",
        "y = 4+3* X +np.random.randn(m,1) #column vector #the randn part is to add noise\n",
        "\"\"\"\n",
        "rand() uses the uniform distribution on [0, 1] , while randn() \n",
        "uses the normal distribution with mean 0 and standard deviation 1.\n",
        "\"\"\"\n",
        "\n",
        "\n",
        "print(\"X: \", X)\n",
        "\n",
        "print(\"y: \", y)"
      ],
      "metadata": {
        "colab": {
          "base_uri": "https://localhost:8080/"
        },
        "id": "hVSi0ts5l9N-",
        "outputId": "bf92682e-ed27-4c72-e315-a4e5b061d7a2"
      },
      "execution_count": 1,
      "outputs": [
        {
          "output_type": "stream",
          "name": "stdout",
          "text": [
            "X:  [[0.74908024]\n",
            " [1.90142861]\n",
            " [1.46398788]\n",
            " [1.19731697]\n",
            " [0.31203728]\n",
            " [0.31198904]\n",
            " [0.11616722]\n",
            " [1.73235229]\n",
            " [1.20223002]\n",
            " [1.41614516]\n",
            " [0.04116899]\n",
            " [1.9398197 ]\n",
            " [1.66488528]\n",
            " [0.42467822]\n",
            " [0.36364993]\n",
            " [0.36680902]\n",
            " [0.60848449]\n",
            " [1.04951286]\n",
            " [0.86389004]\n",
            " [0.58245828]\n",
            " [1.22370579]\n",
            " [0.27898772]\n",
            " [0.5842893 ]\n",
            " [0.73272369]\n",
            " [0.91213997]\n",
            " [1.57035192]\n",
            " [0.39934756]\n",
            " [1.02846888]\n",
            " [1.18482914]\n",
            " [0.09290083]\n",
            " [1.2150897 ]\n",
            " [0.34104825]\n",
            " [0.13010319]\n",
            " [1.89777107]\n",
            " [1.93126407]\n",
            " [1.6167947 ]\n",
            " [0.60922754]\n",
            " [0.19534423]\n",
            " [1.36846605]\n",
            " [0.88030499]\n",
            " [0.24407647]\n",
            " [0.99035382]\n",
            " [0.06877704]\n",
            " [1.8186408 ]\n",
            " [0.51755996]\n",
            " [1.32504457]\n",
            " [0.62342215]\n",
            " [1.04013604]\n",
            " [1.09342056]\n",
            " [0.36970891]\n",
            " [1.93916926]\n",
            " [1.55026565]\n",
            " [1.87899788]\n",
            " [1.7896547 ]\n",
            " [1.19579996]\n",
            " [1.84374847]\n",
            " [0.176985  ]\n",
            " [0.39196572]\n",
            " [0.09045458]\n",
            " [0.65066066]\n",
            " [0.77735458]\n",
            " [0.54269806]\n",
            " [1.65747502]\n",
            " [0.71350665]\n",
            " [0.56186902]\n",
            " [1.08539217]\n",
            " [0.28184845]\n",
            " [1.60439396]\n",
            " [0.14910129]\n",
            " [1.97377387]\n",
            " [1.54448954]\n",
            " [0.39743136]\n",
            " [0.01104423]\n",
            " [1.63092286]\n",
            " [1.41371469]\n",
            " [1.45801434]\n",
            " [1.54254069]\n",
            " [0.1480893 ]\n",
            " [0.71693146]\n",
            " [0.23173812]\n",
            " [1.72620685]\n",
            " [1.24659625]\n",
            " [0.66179605]\n",
            " [0.1271167 ]\n",
            " [0.62196464]\n",
            " [0.65036664]\n",
            " [1.45921236]\n",
            " [1.27511494]\n",
            " [1.77442549]\n",
            " [0.94442985]\n",
            " [0.23918849]\n",
            " [1.42648957]\n",
            " [1.5215701 ]\n",
            " [1.1225544 ]\n",
            " [1.54193436]\n",
            " [0.98759119]\n",
            " [1.04546566]\n",
            " [0.85508204]\n",
            " [0.05083825]\n",
            " [0.21578285]]\n",
            "y:  [[ 6.33428778]\n",
            " [ 9.40527849]\n",
            " [ 8.48372443]\n",
            " [ 5.60438199]\n",
            " [ 4.71643995]\n",
            " [ 5.29307969]\n",
            " [ 5.82639572]\n",
            " [ 8.67878666]\n",
            " [ 6.79819647]\n",
            " [ 7.74667842]\n",
            " [ 5.03890908]\n",
            " [10.14821022]\n",
            " [ 8.46489564]\n",
            " [ 5.7873021 ]\n",
            " [ 5.18802735]\n",
            " [ 6.06907205]\n",
            " [ 5.12340036]\n",
            " [ 6.82087644]\n",
            " [ 6.19956196]\n",
            " [ 4.28385989]\n",
            " [ 7.96723765]\n",
            " [ 5.09801844]\n",
            " [ 5.75798135]\n",
            " [ 5.96358393]\n",
            " [ 5.32104916]\n",
            " [ 8.29041045]\n",
            " [ 4.85532818]\n",
            " [ 6.28312936]\n",
            " [ 7.3932017 ]\n",
            " [ 4.68275333]\n",
            " [ 9.53145501]\n",
            " [ 5.19772255]\n",
            " [ 4.64785995]\n",
            " [ 9.61886731]\n",
            " [ 7.87502098]\n",
            " [ 8.82387021]\n",
            " [ 5.88791282]\n",
            " [ 7.0492748 ]\n",
            " [ 7.91303719]\n",
            " [ 6.9424623 ]\n",
            " [ 4.69751764]\n",
            " [ 5.80238342]\n",
            " [ 5.34915394]\n",
            " [10.20785545]\n",
            " [ 6.34371184]\n",
            " [ 7.06574625]\n",
            " [ 7.27306077]\n",
            " [ 5.71855706]\n",
            " [ 7.86711877]\n",
            " [ 7.29958236]\n",
            " [ 8.82697144]\n",
            " [ 8.08449921]\n",
            " [ 9.73664501]\n",
            " [ 8.86548845]\n",
            " [ 6.03673644]\n",
            " [ 9.59980838]\n",
            " [ 3.4686513 ]\n",
            " [ 5.64948961]\n",
            " [ 3.3519395 ]\n",
            " [ 7.50191639]\n",
            " [ 5.54881045]\n",
            " [ 5.30603267]\n",
            " [ 9.78594227]\n",
            " [ 4.90965564]\n",
            " [ 5.91306699]\n",
            " [ 8.56331925]\n",
            " [ 3.23806212]\n",
            " [ 8.99781574]\n",
            " [ 4.70718666]\n",
            " [10.70314449]\n",
            " [ 7.3965179 ]\n",
            " [ 3.87183748]\n",
            " [ 4.55507427]\n",
            " [ 9.18975324]\n",
            " [ 8.49163691]\n",
            " [ 8.72049122]\n",
            " [ 7.94759736]\n",
            " [ 4.67652161]\n",
            " [ 6.44386684]\n",
            " [ 3.98086294]\n",
            " [11.04439507]\n",
            " [ 8.21362168]\n",
            " [ 4.79408465]\n",
            " [ 5.03790371]\n",
            " [ 4.89121226]\n",
            " [ 6.73818454]\n",
            " [ 9.53623265]\n",
            " [ 7.00466251]\n",
            " [10.28665258]\n",
            " [ 7.24607048]\n",
            " [ 5.53962564]\n",
            " [10.17626171]\n",
            " [ 8.31932218]\n",
            " [ 6.61392702]\n",
            " [ 7.73628865]\n",
            " [ 6.14696329]\n",
            " [ 7.05929527]\n",
            " [ 6.90639808]\n",
            " [ 4.42920556]\n",
            " [ 5.47453181]]\n"
          ]
        }
      ]
    },
    {
      "cell_type": "code",
      "source": [
        "import matplotlib.pyplot as plt\n",
        "\n",
        "plt.figure(figsize= (6,4))\n",
        "#plt.scatter(X, y, c=\"blue\")\n",
        "plt.plot(X,y, \"b.\")\n",
        "plt.xlabel(\"$X_1$\")\n",
        "plt.ylabel(\"$y$\", rotation = 0)\n",
        "plt.axis([0, 2,0, 15])\n",
        "plt.grid()"
      ],
      "metadata": {
        "colab": {
          "base_uri": "https://localhost:8080/",
          "height": 390
        },
        "id": "WSZ9lTBgnsn-",
        "outputId": "c4fb2180-d423-4ae5-fd25-609dbbdc8974"
      },
      "execution_count": 2,
      "outputs": [
        {
          "output_type": "display_data",
          "data": {
            "text/plain": [
              "<Figure size 600x400 with 1 Axes>"
            ],
            "image/png": "[encoded data removed]"
          },
          "metadata": {}
        }
      ]
    },
    {
      "cell_type": "code",
      "source": [
        "from sklearn.preprocessing import add_dummy_feature\n",
        "\n",
        "X_b = add_dummy_feature(X) \n",
        "theta_best = np.linalg.inv(X_b.T @ X_b) @ X_b.T @ y"
      ],
      "metadata": {
        "id": "C4gdjkAboSJF"
      },
      "execution_count": 3,
      "outputs": []
    },
    {
      "cell_type": "code",
      "source": [
        "print(theta_best)"
      ],
      "metadata": {
        "id": "cIUnRZklqdeZ",
        "colab": {
          "base_uri": "https://localhost:8080/"
        },
        "outputId": "42320852-80b1-412b-8d32-00b28a6d5f3b"
      },
      "execution_count": 4,
      "outputs": [
        {
          "output_type": "stream",
          "name": "stdout",
          "text": [
            "[[4.21509616]\n",
            " [2.77011339]]\n"
          ]
        }
      ]
    },
    {
      "cell_type": "code",
      "source": [
        "# making the predictions:\n",
        "\n",
        "X_new = np.array([[0], [2]])\n",
        "X_new_b = add_dummy_feature(X_new) # add x0 = 1 to each instance\n",
        "\n",
        "print(X_new_b)"
      ],
      "metadata": {
        "colab": {
          "base_uri": "https://localhost:8080/"
        },
        "id": "09UstCp7614t",
        "outputId": "96690346-9318-46a3-f5f1-27c66cf9b45c"
      },
      "execution_count": 5,
      "outputs": [
        {
          "output_type": "stream",
          "name": "stdout",
          "text": [
            "[[1. 0.]\n",
            " [1. 2.]]\n"
          ]
        }
      ]
    },
    {
      "cell_type": "code",
      "source": [
        "y_predict = X_new_b @theta_best\n",
        "y_predict"
      ],
      "metadata": {
        "colab": {
          "base_uri": "https://localhost:8080/"
        },
        "id": "2kRSWxIf7nNH",
        "outputId": "1cffe922-afd3-42d6-e68b-836d06d3e38f"
      },
      "execution_count": 6,
      "outputs": [
        {
          "output_type": "execute_result",
          "data": {
            "text/plain": [
              "array([[4.21509616],\n",
              "       [9.75532293]])"
            ]
          },
          "metadata": {},
          "execution_count": 6
        }
      ]
    },
    {
      "cell_type": "code",
      "source": [
        "plt.figure(figsize= (6,4))\n",
        "#plt.scatter(X, y, c=\"blue\")\n",
        "plt.plot(X,y, \"b.\")\n",
        "plt.plot(X_new, y_predict, \"r-\", label=\"predictions\")\n",
        "plt.xlabel(\"$X_1$\")\n",
        "plt.ylabel(\"$y$\", rotation = 0)\n",
        "plt.legend(loc=\"upper left\")\n",
        "plt.axis([0, 2,0, 15])\n",
        "plt.grid()"
      ],
      "metadata": {
        "colab": {
          "base_uri": "https://localhost:8080/",
          "height": 390
        },
        "id": "syNzlKNN7xqn",
        "outputId": "a286087c-012f-48c3-cd4f-782960e562fd"
      },
      "execution_count": 7,
      "outputs": [
        {
          "output_type": "display_data",
          "data": {
            "text/plain": [
              "<Figure size 600x400 with 1 Axes>"
            ],
            "image/png": "[encoded data removed]"
          },
          "metadata": {}
        }
      ]
    },
    {
      "cell_type": "code",
      "source": [
        "# Now with scikit learn\n",
        "from sklearn. linear_model import LinearRegression\n",
        "lin_reg = LinearRegression()\n",
        "lin_reg.fit(X, y)\n",
        "lin_reg.intercept_, lin_reg.coef_\n",
        "\"\"\"\n",
        "Scikit-Learn separates the bias term (intercept_) from the feature\n",
        "weights (coef_). The LinearRegression class is based on the scipy.linalg.lstsq()\n",
        "function (the name stands for “least squares”)\"\"\""
      ],
      "metadata": {
        "id": "Zncj-rx98JJp",
        "colab": {
          "base_uri": "https://localhost:8080/"
        },
        "outputId": "78343041-9c2b-4541-ab6e-fa6527a1c017"
      },
      "execution_count": 9,
      "outputs": [
        {
          "output_type": "execute_result",
          "data": {
            "text/plain": [
              "(array([4.21509616]), array([[2.77011339]]))"
            ]
          },
          "metadata": {},
          "execution_count": 9
        }
      ]
    },
    {
      "cell_type": "code",
      "source": [
        "lin_reg.predict(X_new)"
      ],
      "metadata": {
        "colab": {
          "base_uri": "https://localhost:8080/"
        },
        "id": "Ov4aM1YTgZCr",
        "outputId": "c4912770-8d27-490c-fd7c-c7aa4de6d0b0"
      },
      "execution_count": 10,
      "outputs": [
        {
          "output_type": "execute_result",
          "data": {
            "text/plain": [
              "array([[4.21509616],\n",
              "       [9.75532293]])"
            ]
          },
          "metadata": {},
          "execution_count": 10
        }
      ]
    },
    {
      "cell_type": "code",
      "source": [
        "#directly calling the scipy linalg least squares:\n",
        "theta_best_svd, residuals, rank, s = np.linalg.lstsq(X_b, y, rcond=1e-6)"
      ],
      "metadata": {
        "id": "SumN8Al1hNav"
      },
      "execution_count": 11,
      "outputs": []
    },
    {
      "cell_type": "code",
      "source": [
        "print(theta_best_svd)\n",
        "print(s)\n",
        "print(rank)\n",
        "print(residuals)"
      ],
      "metadata": {
        "colab": {
          "base_uri": "https://localhost:8080/"
        },
        "id": "uqv82NJlhy1Y",
        "outputId": "f1eb0cc5-b9c4-4bea-f633-cc9f7656fc2d"
      },
      "execution_count": 12,
      "outputs": [
        {
          "output_type": "stream",
          "name": "stdout",
          "text": [
            "[[4.21509616]\n",
            " [2.77011339]]\n",
            "[14.37020392  4.11961067]\n",
            "2\n",
            "[80.6584564]\n"
          ]
        }
      ]
    },
    {
      "cell_type": "code",
      "source": [
        "np.linalg.pinv(X_b)@y"
      ],
      "metadata": {
        "colab": {
          "base_uri": "https://localhost:8080/"
        },
        "id": "fF46ibcjh6SP",
        "outputId": "2f82dc08-85c6-4d93-e729-5e3b5a50d618"
      },
      "execution_count": 13,
      "outputs": [
        {
          "output_type": "execute_result",
          "data": {
            "text/plain": [
              "array([[4.21509616],\n",
              "       [2.77011339]])"
            ]
          },
          "metadata": {},
          "execution_count": 13
        }
      ]
    },
    {
      "cell_type": "code",
      "source": [],
      "metadata": {
        "id": "3RKSrCzGiB72"
      },
      "execution_count": null,
      "outputs": []
    }
  ]
}